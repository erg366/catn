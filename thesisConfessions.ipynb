{
 "cells": [
  {
   "cell_type": "code",
   "execution_count": 2,
   "metadata": {},
   "outputs": [],
   "source": [
    "import random\n",
    "import tracery\n",
    "from tracery.modifiers import base_english"
   ]
  },
  {
   "cell_type": "code",
   "execution_count": 3,
   "metadata": {},
   "outputs": [
    {
     "name": "stdout",
     "output_type": "stream",
     "text": [
      "Please enter your confession ❤️I actually hate you.\n"
     ]
    }
   ],
   "source": [
    "userConfession = input(\"Please enter your confession ❤️\")"
   ]
  },
  {
   "cell_type": "code",
   "execution_count": 4,
   "metadata": {},
   "outputs": [],
   "source": [
    "rules = {\n",
    "    \"origin\": \"#intro# #confession#\",\n",
    "    \"confession\": [\n",
    "        \"I #adv# #verbPast# your #obj#.\",\n",
    "        \"I #adv# #verbPres# your #obj#.\",\n",
    "        \"I #adv# #verbPres# your #person#.\",\n",
    "        \"I #adv# #verbPres# you.\"\n",
    "    ],\n",
    "    \"intro\": [\"I'm sorry,\", \"Unfortunately,\", \"I confess:\"],\n",
    "    \"verbPast\": [\"ate\", \"stole\", \"took\", \"hated\", \"forgot\"],\n",
    "    \"verbPres\": [\"love\", \"hate\", \"like\", \"don't like\", \"don't care about\", \"despise\", \"want to eat\", \"want to fight\", \"want to dance with\", \"want to hypnotize\", \"want to forget\", \"declare war on\", \"can't stop pranking\", \"will date\"],\n",
    "    \"adv\": [\"\", \"\", \"\", \"\", \"\", \"secretly\", \"actually\", \"really\", \"truly\", \"deeply\", \"almost\", \"regretfully\", \"gladly\", \"desperately\", \"quickly\", \"briefly\"],\n",
    "    \"obj\": [\"present\", \"lunch\", \"book\", \"letter\", \"work\", \"birthday\", \"outfit\"],\n",
    "    \"person\": [\"dad\", \"mom\", \"s/o\", \"aunt\", \"brother\", \"boss\", \"parents\", \"friends\", \"catsitter\", \"sleep paralysis demon\"]\n",
    "}\n",
    "\n",
    "noIntro = {\n",
    "    \"origin\": \"#confession#\",\n",
    "    \"confession\": [\n",
    "        \"I #adv# #verbPast# your #obj#.\",\n",
    "        \"I #adv# #verbPres# your #obj#.\",\n",
    "        \"I #adv# #verbPres# your #person#.\",\n",
    "        \"I #adv# #verbPres# you.\"\n",
    "    ],\n",
    "    \"verbPast\": [\"ate\", \"stole\", \"took\", \"hated\", \"forgot\"],\n",
    "    \"verbPres\": [\"love\", \"hate\", \"like\", \"don't like\", \"don't care about\", \"despise\", \"want to eat\", \"want to fight\", \"want to dance with\", \"want to hypnotize\", \"want to forget\", \"declare war on\", \"can't stop pranking\", \"will date\"],\n",
    "    \"adv\": [\"\", \"\", \"\", \"\", \"\", \"secretly\", \"actually\", \"really\", \"truly\", \"deeply\", \"almost\", \"regretfully\", \"gladly\", \"desperately\", \"quickly\", \"briefly\"],\n",
    "    \"obj\": [\"present\", \"lunch\", \"book\", \"letter\", \"work\", \"birthday\", \"outfit\"],\n",
    "    \"person\": [\"dad\", \"mom\", \"s/o\", \"aunt\", \"brother\", \"boss\", \"parents\", \"friends\", \"catsitter\", \"sleep paralysis demon\"]\n",
    "}\n",
    "\n",
    "grammar = tracery.Grammar(rules)\n",
    "noIntroGrammar = tracery.Grammar(noIntro)\n",
    "grammar.add_modifiers(base_english)\n",
    "noIntroGrammar.add_modifiers(base_english)\n"
   ]
  },
  {
   "cell_type": "code",
   "execution_count": 5,
   "metadata": {},
   "outputs": [
    {
     "name": "stdout",
     "output_type": "stream",
     "text": [
      "I confess: I actually took your birthday.\n",
      "I actually hate you.\n",
      "I almost want to fight you.\n",
      "I'm sorry, I  want to hypnotize you.\n",
      "I actually want to forget you.\n",
      "I'm sorry, I almost want to forget your dad.\n",
      "I desperately took your birthday.\n",
      "I  don't care about your letter.\n",
      "I briefly despise your book.\n",
      "I'm sorry, I  will date your book.\n",
      "Unfortunately, I gladly hate your dad.\n",
      "I'm sorry, I regretfully want to fight your birthday.\n",
      "I really can't stop pranking your outfit.\n",
      "I desperately despise your s/o.\n",
      "I  will date your catsitter.\n",
      "I'm sorry, I secretly ate your letter.\n",
      "I briefly don't care about your book.\n",
      "Unfortunately, I  stole your outfit.\n",
      "I briefly declare war on your birthday.\n",
      "I  can't stop pranking you.\n"
     ]
    }
   ],
   "source": [
    "secretNum = random.randint(0,18)\n",
    "for i in range(19):\n",
    "    if random.randint(0,1) != 0:\n",
    "        print(grammar.flatten(\"#origin#\"))\n",
    "    else:\n",
    "        print(noIntroGrammar.flatten(\"#origin#\"))\n",
    "    if i == secretNum:\n",
    "        print(userConfession)"
   ]
  },
  {
   "cell_type": "code",
   "execution_count": null,
   "metadata": {},
   "outputs": [],
   "source": []
  }
 ],
 "metadata": {
  "kernelspec": {
   "display_name": "Python 3",
   "language": "python",
   "name": "python3"
  },
  "language_info": {
   "codemirror_mode": {
    "name": "ipython",
    "version": 3
   },
   "file_extension": ".py",
   "mimetype": "text/x-python",
   "name": "python",
   "nbconvert_exporter": "python",
   "pygments_lexer": "ipython3",
   "version": "3.8.3"
  }
 },
 "nbformat": 4,
 "nbformat_minor": 4
}
