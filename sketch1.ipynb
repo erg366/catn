{
 "cells": [
  {
   "cell_type": "markdown",
   "metadata": {},
   "source": [
    "# Computational Approaches to Narrative, Sketch #1."
   ]
  },
  {
   "cell_type": "markdown",
   "metadata": {},
   "source": [
    "<i>Think of Safety, and a Long-Awaited Letter</i>, by Emma Grimm."
   ]
  },
  {
   "cell_type": "markdown",
   "metadata": {},
   "source": [
    "A system for generating stories that uses a <a href=\"https://github.com/aparrish/pytracery\" target=\"_blank\">Python port</a> by Allison Parrish for Kate Compton's <a href=\"https://github.com/galaxykate/tracery\" target=\"_blank\">Tracery</a>."
   ]
  },
  {
   "cell_type": "code",
   "execution_count": 1,
   "metadata": {
    "scrolled": true
   },
   "outputs": [
    {
     "name": "stdout",
     "output_type": "stream",
     "text": [
      "Collecting tracery\n",
      "  Downloading tracery-0.1.1.tar.gz (8.1 kB)\n",
      "Building wheels for collected packages: tracery\n",
      "  Building wheel for tracery (setup.py) ... \u001b[?25ldone\n",
      "\u001b[?25h  Created wheel for tracery: filename=tracery-0.1.1-py3-none-any.whl size=7695 sha256=14bcd4b35dec0567b22885ef02ca14e087e75820f45539736608a45e0e717605\n",
      "  Stored in directory: /Users/emmagrimm/Library/Caches/pip/wheels/2c/55/dd/ca1cff9fcfa0968ca0610769213fc9e907c88eb2c0164726d4\n",
      "Successfully built tracery\n",
      "Installing collected packages: tracery\n",
      "Successfully installed tracery-0.1.1\n",
      "Note: you may need to restart the kernel to use updated packages.\n"
     ]
    }
   ],
   "source": [
    "pip install tracery"
   ]
  },
  {
   "cell_type": "code",
   "execution_count": 2,
   "metadata": {},
   "outputs": [],
   "source": [
    "import tracery\n",
    "from tracery.modifiers import base_english"
   ]
  },
  {
   "cell_type": "markdown",
   "metadata": {},
   "source": [
    "In lieu of a blog post, this notebook also functions as documentation for this sketch. My goal for the project was to think about my own preconceived notions of a story and use Tracery to generate stories that fall outside the classification of the Hero's Journey. According to the definition established by H. Porter Abbott in \"Defining Narrative\", any event or series of events can constitute a story, even when these events are not causally related. Based on this interpretation of what makes up a story, we could generate, without much adherence to any rule that concerns <i>plot</i>, a series of noticeably different stories in which every entity and event, however disjointed, is constituent."
   ]
  },
  {
   "cell_type": "markdown",
   "metadata": {},
   "source": [
    "However, I am also concerned with generating a story that is, if not compelling or interesting, able to be understood as a distinct whole, where entities and events are noticeably linked to one another. This kind of cohesiveness could be achieved simply by having a single character experience a series of events. An example of this can be seen below."
   ]
  },
  {
   "cell_type": "code",
   "execution_count": 16,
   "metadata": {},
   "outputs": [],
   "source": [
    "rules = {\n",
    "    \"sentence\": [\"The protagonist #doesSomething#.\"],\n",
    "    \"doesSomething\": [\"presses a button\",\"eats an apple\",\"sees some birds\",\"falls asleep and wakes back up\",\"daydreams\",\"forgets their plans\",\"wishes they were somewhere else\",\"takes a walk\"]\n",
    "}"
   ]
  },
  {
   "cell_type": "code",
   "execution_count": 18,
   "metadata": {},
   "outputs": [
    {
     "name": "stdout",
     "output_type": "stream",
     "text": [
      "The protagonist takes a walk.\n",
      "The protagonist daydreams.\n",
      "The protagonist falls asleep and wakes back up.\n",
      "The protagonist presses a button.\n",
      "The protagonist takes a walk.\n"
     ]
    }
   ],
   "source": [
    "grammar = tracery.Grammar(rules)\n",
    "grammar.add_modifiers(base_english)\n",
    "\n",
    "for i in range(5):\n",
    "    print(grammar.flatten(\"#sentence#\"))"
   ]
  },
  {
   "cell_type": "markdown",
   "metadata": {},
   "source": [
    "This is a story because it includes a sequence of events. It is easy to understand the events in connection to one another because they are all happening in association with a single entity. But this story is boring and repetitive. Elaborations on such a framework which include different entities and events, and add an element of affect to the characters' experiences, will still feel somewhat flat."
   ]
  },
  {
   "cell_type": "markdown",
   "metadata": {},
   "source": [
    "In the supplementary readings, I found the Spindlewheel bot, which was built using the Tracery framework, to be particularly compelling. I really like the idea of an interpretive game that allows the players to themselves be storytellers, by offering direction in plot and tone without enforcing a strict set of rules. The Spindlewheel minigame <i>How to Build a Place You Love</i> by Takuma Okada allows the player to create a setting and explore it using the cards supplied by the bot as guiding elements. The dialogue between the player/storyteller and the bot/rules allows for a setting/story that feels both like an intimate product of the player's imagination and something separated from them by a somewhat formal system."
   ]
  },
  {
   "cell_type": "code",
   "execution_count": 34,
   "metadata": {},
   "outputs": [
    {
     "name": "stdout",
     "output_type": "stream",
     "text": [
      "Relief: Think of life, and a telephone call.\n",
      "Trust: Think of bursting, and a firm handshake.\n",
      "Euphoria: Think of loss, and a sapling.\n",
      "Exasperation: Think of rebirth, and a far-off boat.\n",
      "Trust: Think of death, and a raised eyebrow.\n",
      "Melancholy: Think of rebirth, and a rosebud.\n",
      "Restlessness: Think of absence, and a lost tooth.\n",
      "Shame: Think of movement, and a light bulb.\n",
      "Relief: Think of journeys, and a sigh.\n",
      "Trust: Think of safety, and a long-awaited letter.\n"
     ]
    }
   ],
   "source": [
    "rules = {\n",
    "    \"motif\": [\"#feeling.capitalize#: Think of #bigThing#, and a #smallThing#.\"],\n",
    "    \"feeling\": [\"hope\", \"melancholy\", \"fury\", \"euphoria\", \"relief\", \"suspicion\", \"fondness\", \"shame\", \"exasperation\", \"hostility\", \"trust\", \"serenity\", \"restlessness\"],\n",
    "    \"bigThing\": [\"life\", \"death\", \"rebirth\", \"loss\", \"absence\", \"safety\", \"companionship\", \"silence\", \"noise\", \"chaos\", \"color\", \"beginning\", \"bursting\", \"journeys\", \"movement\", \"stagnancy\", \"forgetting\", \"justice\"],\n",
    "    \"smallThing\": [\"teacup\", \"firm handshake\", \"rosebud\", \"lost tooth\", \"sigh\", \"raised eyebrow\", \"long road\", \"familiar scent\", \"telephone call\", \"full trash can\", \"light bulb\", \"sapling\", \"far-off boat\", \"long-awaited letter\", \"used napkin\"]\n",
    "}\n",
    "\n",
    "grammar = tracery.Grammar(rules)\n",
    "grammar.add_modifiers(base_english)\n",
    "\n",
    "for i in range(10):\n",
    "    print(grammar.flatten(\"#motif#\"))"
   ]
  },
  {
   "cell_type": "markdown",
   "metadata": {},
   "source": [
    "In the system laid out above, the feeling should inform how we read or interpret the two following things: one, a broad concept, the other, a more specific thing. Now, we need to establish a series of rules, or beats, for these impressions to respond to. The goal is to create a feeling of question and answer that somewhat mirrors the feeling of back-and-forth, the tension between self-determination and chance, that we find in TTRPGs."
   ]
  },
  {
   "cell_type": "markdown",
   "metadata": {},
   "source": [
    "The questions asked, or the elements of the story that we use the impressions above to determine, belie the desire for or favoring of a certain type of plot, development, or conclusion. In order to move away from the idea of the hero's journey, and instead situate a character within a larger community and its motivations, and explore a series of events without necessitating conflict, I have tried to ask questions that create interest not through the character's movement throught the story, but the storyteller's or audience's movement through the narrative. Though <i>Her Story</i> has moments of conflict and resolution, the real tension and relief is created by the fact that the player is constantly readjusting their interpretation based on an incomplete but growing pool of information. In <i>Still Eating Oranges'</i> <a href=\"https://stilleatingoranges.tumblr.com/post/25153960313/the-significance-of-plot-without-conflict\" target=\"_blank\">post</a> on the significance of plot without conflict, they argue that the reconciliation of a surprising event or element with the previously established world creates a satsfying moment of tension and conclusion. The framing of a story based on a structure more similar to these frameworks than the Hero's Journey could work like this:"
   ]
  },
  {
   "cell_type": "markdown",
   "metadata": {},
   "source": [
    "Each of the following points is followed by an impression generated by the system above, based on which the storyteller constructs an answer or explanation for this particular point.\n",
    "\n",
    "1. The inner life and desires of our protagonist at the beginning of the story.\n",
    "2. The collective desires of their greater community.\n",
    "3. Where are we at the beginning of this story? How can we characterize our surroundings?\n",
    "4. The protagonist experiences a routine event in their life.\n",
    "5. We discover a surprising element, seemingly at odds with what we know about the protagonist or their community.\n",
    "6. How is this element resolved? How does it become part of our understanding of this world?\n",
    "\n",
    "These points can be repeated multiple times to create a longer narrative, in which each surprising element becomes enfolded into our knowledge of this story world. When points 3-6 are repeated, we simply introduce a change in setting and a new event. When we also repeat points 1 and 2, we must acknowledge or try to understand how our characters' goals and feelings have changed or grown through the story so far. The function of the narrative, then, is for us to learn about this world and the people in it. "
   ]
  },
  {
   "cell_type": "markdown",
   "metadata": {},
   "source": [
    "**An example of this system, used to generate a story:**"
   ]
  },
  {
   "cell_type": "code",
   "execution_count": 35,
   "metadata": {},
   "outputs": [
    {
     "name": "stdout",
     "output_type": "stream",
     "text": [
      "The inner life and desires of our protagonist at the beginning of the story.\n",
      "Hope: Think of movement, and a light bulb.\n"
     ]
    }
   ],
   "source": [
    "print(\"The inner life and desires of our protagonist at the beginning of the story.\")\n",
    "print(grammar.flatten(\"#motif#\"))"
   ]
  },
  {
   "cell_type": "markdown",
   "metadata": {},
   "source": [
    "The protagonist is young, full of energy and pride. They have ideas, almost too many to ever focus on a single one, and are moving restlessly through the world."
   ]
  },
  {
   "cell_type": "code",
   "execution_count": 36,
   "metadata": {},
   "outputs": [
    {
     "name": "stdout",
     "output_type": "stream",
     "text": [
      "The collective desires of their greater community.\n",
      "Euphoria: Think of absence, and a raised eyebrow.\n"
     ]
    }
   ],
   "source": [
    "print(\"The collective desires of their greater community.\")\n",
    "print(grammar.flatten(\"#motif#\"))"
   ]
  },
  {
   "cell_type": "markdown",
   "metadata": {},
   "source": [
    "This character's community is their circle of friends, longing for escape and self-realization. Their plans are grand, but never systematic or serious. "
   ]
  },
  {
   "cell_type": "code",
   "execution_count": 38,
   "metadata": {},
   "outputs": [
    {
     "name": "stdout",
     "output_type": "stream",
     "text": [
      "Where are we at the beginning of this story? How can we characterize our surroundings?\n",
      "Trust: Think of companionship, and a used napkin.\n"
     ]
    }
   ],
   "source": [
    "print(\"Where are we at the beginning of this story? How can we characterize our surroundings?\")\n",
    "print(grammar.flatten(\"#motif#\"))"
   ]
  },
  {
   "cell_type": "markdown",
   "metadata": {},
   "source": [
    "In their hiding place, a radio plays unintelligible sounds. The place is packed, dirty and sparsely illuminated, but our characters feel safe and comfortable. Plans are made and discarded in the same breath."
   ]
  },
  {
   "cell_type": "code",
   "execution_count": 39,
   "metadata": {},
   "outputs": [
    {
     "name": "stdout",
     "output_type": "stream",
     "text": [
      "The protagonist experiences a routine event in their life.\n",
      "Fury: Think of life, and a sigh.\n"
     ]
    }
   ],
   "source": [
    "print(\"The protagonist experiences a routine event in their life.\")\n",
    "print(grammar.flatten(\"#motif#\"))"
   ]
  },
  {
   "cell_type": "markdown",
   "metadata": {},
   "source": [
    "The protagonist clashes with an authority figure who discounts their ideas for improving a situation. In a bustling marketplace, disappointment and exasperation boil over."
   ]
  },
  {
   "cell_type": "code",
   "execution_count": 40,
   "metadata": {},
   "outputs": [
    {
     "name": "stdout",
     "output_type": "stream",
     "text": [
      "We discover a surprising element, seemingly at odds with what we know about the protagonist or their community.\n",
      "Fury: Think of loss, and a light bulb.\n"
     ]
    }
   ],
   "source": [
    "print(\"We discover a surprising element, seemingly at odds with what we know about the protagonist or their community.\")\n",
    "print(grammar.flatten(\"#motif#\"))"
   ]
  },
  {
   "cell_type": "markdown",
   "metadata": {},
   "source": [
    "In a bustling marketplace, disappointment and exasperation boil over, and our protagonist destroys a colony of ants. Someone filled with hope and idealism has acted in despair."
   ]
  },
  {
   "cell_type": "code",
   "execution_count": 41,
   "metadata": {},
   "outputs": [
    {
     "name": "stdout",
     "output_type": "stream",
     "text": [
      "How is this element resolved? How does it become part of our understanding of this world?\n",
      "Shame: Think of beginning, and a sapling.\n"
     ]
    }
   ],
   "source": [
    "print(\"How is this element resolved? How does it become part of our understanding of this world?\")\n",
    "print(grammar.flatten(\"#motif#\"))"
   ]
  },
  {
   "cell_type": "markdown",
   "metadata": {},
   "source": [
    "The protagonist is a conflicted person, who acts brashly and sometimes carelessly. Their beliefs are often at odds with their behavior. Within their group of loved ones, growth is sung of in such grandiose terms that small steps forward can seem like steps back. "
   ]
  },
  {
   "cell_type": "markdown",
   "metadata": {},
   "source": [
    "The ways in which I interpreted the impressions and constructed a story demonstrates my own tendency to want to establish and resolve conflict, even within a single character. While we cannot control the ways in which a storyteller will choose to convert a theme into an event, it might be helpful to direct the questions away from motivation or desire and towards lived experience or the reality of the current moment. It would be interesting to see how small changes in the points or questions, such as the use of \"desire\" vs. \"motivation\" vs. \"feelings\" vs. \"reality\" in point 2, affect people's interpretation of the themes and the course of the story."
   ]
  },
  {
   "cell_type": "code",
   "execution_count": null,
   "metadata": {},
   "outputs": [],
   "source": []
  }
 ],
 "metadata": {
  "kernelspec": {
   "display_name": "Python 3",
   "language": "python",
   "name": "python3"
  },
  "language_info": {
   "codemirror_mode": {
    "name": "ipython",
    "version": 3
   },
   "file_extension": ".py",
   "mimetype": "text/x-python",
   "name": "python",
   "nbconvert_exporter": "python",
   "pygments_lexer": "ipython3",
   "version": "3.8.3"
  }
 },
 "nbformat": 4,
 "nbformat_minor": 4
}
